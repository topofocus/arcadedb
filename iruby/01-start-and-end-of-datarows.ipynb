{
 "cells": [
  {
   "cell_type": "code",
   "execution_count": 1,
   "id": "24212c68",
   "metadata": {},
   "outputs": [
    {
     "data": {
      "text/html": [
       "<h2>Arcade Stock Database </h2>"
      ],
      "text/plain": [
       "\"<h2>Arcade Stock Database </h2>\""
      ]
     },
     "metadata": {},
     "output_type": "display_data"
    },
    {
     "data": {
      "text/html": [
       "<h3>Production Environment </h3>"
      ],
      "text/plain": [
       "\"<h3>Production Environment </h3>\""
      ]
     },
     "metadata": {},
     "output_type": "display_data"
    },
    {
     "data": {
      "text/plain": [
       "true"
      ]
     },
     "execution_count": 1,
     "metadata": {},
     "output_type": "execute_result"
    }
   ],
   "source": [
    "require_relative 'db-console'\n"
   ]
  },
  {
   "cell_type": "code",
   "execution_count": 3,
   "id": "8e3fa151",
   "metadata": {},
   "outputs": [
    {
     "data": {
      "text/html": [
       "<b style=\"color:  \">Index</b>[#313:0]:{0->}{->0}, SPX USD ()   "
      ],
      "text/plain": [
       "\"<b style=\\\"color:  \\\">Index</b>[#313:0]:{0->}{->0}, SPX USD ()   \""
      ]
     },
     "metadata": {},
     "output_type": "display_data"
    },
    {
     "data": {},
     "execution_count": 3,
     "metadata": {},
     "output_type": "execute_result"
    }
   ],
   "source": [
    "spx = Contract.first\n"
   ]
  },
  {
   "cell_type": "markdown",
   "id": "74a3fca1",
   "metadata": {},
   "source": [
    "Die Datenreihen beginnen 2004 bw. 2006"
   ]
  },
  {
   "cell_type": "code",
   "execution_count": 5,
   "id": "717b6837",
   "metadata": {},
   "outputs": [
    {
     "data": {
      "text/html": [
       "<table><tr><th>CLASS</th><th>IN</th><th>OUT</th><th>RID</th><th>date</th><th>open</th><th>high</th><th>low</th><th>close</th><th>trades</th></tr><tr><td>Trades</td><td>1</td><td>1</td><td>#386:2057</td><td>2004-03-04</td><td>1150.61</td><td>1154.98</td><td>1149.8</td><td>1154.57</td><td>692</td></tr><tr><td>Trades</td><td>2</td><td>1</td><td>#389:2058</td><td>2004-03-05</td><td>1151.0</td><td>1163.23</td><td>1148.75</td><td>1157.34</td><td>1806</td></tr></table>"
      ],
      "text/plain": [
       "\"<table><tr><th>CLASS</th><th>IN</th><th>OUT</th><th>RID</th><th>date</th><th>open</th><th>high</th><th>low</th><th>close</th><th>trades</th></tr><tr><td>Trades</td><td>1</td><td>1</td><td>#386:2057</td><td>2004-03-04</td><td>1150.61</td><td>1154.98</td><td>1149.8</td><td>1154.57</td><td>692</td></tr><tr><td>Trades</td><td>2</td><td>1</td><td>#389:2058</td><td>2004-03-05</td><td>1151.0</td><td>1163.23</td><td>1148.75</td><td>1157.34</td><td>1806</td></tr></table>\""
      ]
     },
     "metadata": {},
     "output_type": "display_data"
    },
    {
     "data": {
      "text/html": [
       "<table><tr><th>CLASS</th><th>IN</th><th>OUT</th><th>RID</th><th>date</th><th>open</th><th>high</th><th>low</th><th>close</th><th>volume</th><th>wap</th></tr><tr><td>Vola</td><td>1</td><td>1</td><td>#404:549</td><td>2006-01-06</td><td>0.15874508</td><td>0.15874508</td><td>0.15874508</td><td>0.15874508</td><td>1</td><td>0.15874508</td></tr><tr><td>Vola</td><td>2</td><td>1</td><td>#407:549</td><td>2006-01-09</td><td>0.10477175</td><td>0.1063592</td><td>0.10159685</td><td>0.1031843</td><td>1</td><td>0.10620046</td></tr></table>"
      ],
      "text/plain": [
       "\"<table><tr><th>CLASS</th><th>IN</th><th>OUT</th><th>RID</th><th>date</th><th>open</th><th>high</th><th>low</th><th>close</th><th>volume</th><th>wap</th></tr><tr><td>Vola</td><td>1</td><td>1</td><td>#404:549</td><td>2006-01-06</td><td>0.15874508</td><td>0.15874508</td><td>0.15874508</td><td>0.15874508</td><td>1</td><td>0.15874508</td></tr><tr><td>Vola</td><td>2</td><td>1</td><td>#407:549</td><td>2006-01-09</td><td>0.10477175</td><td>0.1063592</td><td>0.10159685</td><td>0.1031843</td><td>1</td><td>0.10620046</td></tr></table>\""
      ]
     },
     "metadata": {},
     "output_type": "display_data"
    },
    {
     "data": {},
     "execution_count": 5,
     "metadata": {},
     "output_type": "execute_result"
    }
   ],
   "source": [
    "Ohlc.start_entry( spx ).vector(2)"
   ]
  },
  {
   "cell_type": "markdown",
   "id": "e7d23427",
   "metadata": {},
   "source": [
    "Die Anfangsdaten der Datenreihen Trades und Vola für den SPX in Tabellenform"
   ]
  },
  {
   "cell_type": "markdown",
   "id": "c3dea938",
   "metadata": {},
   "source": [
    "Die aktuellen Enddaten der Datenreihen Trades und Vola für den SPX in Tabellenform"
   ]
  },
  {
   "cell_type": "code",
   "execution_count": 6,
   "id": "a91fb843",
   "metadata": {
    "scrolled": false
   },
   "outputs": [
    {
     "data": {
      "text/html": [
       "<table><tr><th>CLASS</th><th>IN</th><th>OUT</th><th>RID</th><th>date</th><th>open</th><th>high</th><th>low</th><th>close</th><th>trades</th></tr><tr><td>Trades</td><td>2</td><td>0</td><td>#398:24</td><td>2023-11-07</td><td>4366.21</td><td>4386.26</td><td>4355.41</td><td>4378.38</td><td>21528</td></tr><tr><td>Trades</td><td>2</td><td>1</td><td>#395:24</td><td>2023-11-06</td><td>4364.27</td><td>4372.21</td><td>4347.53</td><td>4365.98</td><td>21611</td></tr><tr><td>Trades</td><td>2</td><td>1</td><td>#392:24</td><td>2023-11-03</td><td>4334.23</td><td>4373.62</td><td>4334.23</td><td>4358.34</td><td>21667</td></tr><tr><td>Trades</td><td>2</td><td>1</td><td>#389:24</td><td>2023-11-02</td><td>4268.26</td><td>4319.72</td><td>4268.26</td><td>4317.78</td><td>21607</td></tr><tr><td>Trades</td><td>2</td><td>1</td><td>#386:24</td><td>2023-11-01</td><td>4201.27</td><td>4245.64</td><td>4197.74</td><td>4237.86</td><td>22064</td></tr></table>"
      ],
      "text/plain": [
       "\"<table><tr><th>CLASS</th><th>IN</th><th>OUT</th><th>RID</th><th>date</th><th>open</th><th>high</th><th>low</th><th>close</th><th>trades</th></tr><tr><td>Trades</td><td>2</td><td>0</td><td>#398:24</td><td>2023-11-07</td><td>4366.21</td><td>4386.26</td><td>4355.41</td><td>4378.38</td><td>21528</td></tr><tr><td>Trades</td><td>2</td><td>1</td><td>#395:24</td><td>2023-11-06</td><td>4364.27</td><td>4372.21</td><td>4347.53</td><td>4365.98</td><td>21611</td></tr><tr><td>Trades</td><td>2</td><td>1</td><td>#392:24</td><td>2023-11-03</td><td>4334.23</td><td>4373.62</td><td>4334.23</td><td>4358.34</td><td>21667</td></tr><tr><td>Trades</td><td>2</td><td>1</td><td>#389:24</td><td>2023-11-02</td><td>4268.26</td><td>4319.72</td><td>4268.26</td><td>4317.78</td><td>21607</td></tr><tr><td>Trades</td><td>2</td><td>1</td><td>#386:24</td><td>2023-11-01</td><td>4201.27</td><td>4245.64</td><td>4197.74</td><td>4237.86</td><td>22064</td></tr></table>\""
      ]
     },
     "metadata": {},
     "output_type": "display_data"
    },
    {
     "data": {
      "text/html": [
       "<table><tr><th>CLASS</th><th>IN</th><th>OUT</th><th>RID</th><th>date</th><th>open</th><th>high</th><th>low</th><th>close</th><th>volume</th><th>wap</th></tr><tr><td>Vola</td><td>2</td><td>0</td><td>#422:24</td><td>2023-11-07</td><td>0.12382116</td><td>0.12699606</td><td>0.12223371</td><td>0.12223371</td><td>1</td><td>0.12710718</td></tr><tr><td>Vola</td><td>2</td><td>1</td><td>#419:24</td><td>2023-11-06</td><td>0.12540861</td><td>0.12858351</td><td>0.12382116</td><td>0.12540861</td><td>1</td><td>0.12855176</td></tr><tr><td>Vola</td><td>2</td><td>1</td><td>#416:24</td><td>2023-11-03</td><td>0.13334587</td><td>0.13334587</td><td>0.12540861</td><td>0.12699606</td><td>1</td><td>0.13299663</td></tr><tr><td>Vola</td><td>2</td><td>1</td><td>#413:24</td><td>2023-11-02</td><td>0.14763292</td><td>0.14763292</td><td>0.13493332</td><td>0.13493332</td><td>1</td><td>0.14722019</td></tr><tr><td>Vola</td><td>2</td><td>1</td><td>#410:24</td><td>2023-11-01</td><td>0.15874508</td><td>0.15874508</td><td>0.14604547</td><td>0.14604547</td><td>1</td><td>0.15812597</td></tr></table>"
      ],
      "text/plain": [
       "\"<table><tr><th>CLASS</th><th>IN</th><th>OUT</th><th>RID</th><th>date</th><th>open</th><th>high</th><th>low</th><th>close</th><th>volume</th><th>wap</th></tr><tr><td>Vola</td><td>2</td><td>0</td><td>#422:24</td><td>2023-11-07</td><td>0.12382116</td><td>0.12699606</td><td>0.12223371</td><td>0.12223371</td><td>1</td><td>0.12710718</td></tr><tr><td>Vola</td><td>2</td><td>1</td><td>#419:24</td><td>2023-11-06</td><td>0.12540861</td><td>0.12858351</td><td>0.12382116</td><td>0.12540861</td><td>1</td><td>0.12855176</td></tr><tr><td>Vola</td><td>2</td><td>1</td><td>#416:24</td><td>2023-11-03</td><td>0.13334587</td><td>0.13334587</td><td>0.12540861</td><td>0.12699606</td><td>1</td><td>0.13299663</td></tr><tr><td>Vola</td><td>2</td><td>1</td><td>#413:24</td><td>2023-11-02</td><td>0.14763292</td><td>0.14763292</td><td>0.13493332</td><td>0.13493332</td><td>1</td><td>0.14722019</td></tr><tr><td>Vola</td><td>2</td><td>1</td><td>#410:24</td><td>2023-11-01</td><td>0.15874508</td><td>0.15874508</td><td>0.14604547</td><td>0.14604547</td><td>1</td><td>0.15812597</td></tr></table>\""
      ]
     },
     "metadata": {},
     "output_type": "display_data"
    },
    {
     "data": {},
     "execution_count": 6,
     "metadata": {},
     "output_type": "execute_result"
    }
   ],
   "source": [
    "Ohlc.last_entry( spx ).vector(-5)\n",
    "# Langform\n",
    "# IRuby.display(  Ohlc.last_entry( spx ).map{|y| IRuby.table( y.vector(-5).map(&:html_attributes))})"
   ]
  }
 ],
 "metadata": {
  "kernelspec": {
   "display_name": "Ruby 3.2.0",
   "language": "ruby",
   "name": "ruby"
  },
  "language_info": {
   "file_extension": ".rb",
   "mimetype": "application/x-ruby",
   "name": "ruby",
   "version": "3.2.0"
  }
 },
 "nbformat": 4,
 "nbformat_minor": 5
}
